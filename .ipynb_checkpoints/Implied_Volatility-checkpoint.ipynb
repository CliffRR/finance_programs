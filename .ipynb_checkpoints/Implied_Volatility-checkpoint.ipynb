{
 "cells": [
  {
   "cell_type": "code",
   "execution_count": 187,
   "id": "organizational-harvey",
   "metadata": {},
   "outputs": [],
   "source": [
    "from collections import defaultdict\n",
    "import yahoo_fin.stock_info as si\n",
    "import yahoo_fin.options as ops\n",
    "import numpy as np \n",
    "import pandas as pd\n",
    "import math\n",
    "from datetime import datetime"
   ]
  },
  {
   "cell_type": "code",
   "execution_count": 188,
   "id": "occupied-extra",
   "metadata": {},
   "outputs": [
    {
     "data": {
      "text/plain": [
       "86.0"
      ]
     },
     "execution_count": 188,
     "metadata": {},
     "output_type": "execute_result"
    }
   ],
   "source": [
    "ticker_symbol = 'mu'\n",
    "ticker_symbol_live_price = si.get_live_price(ticker_symbol)\n",
    "expiration_date = '06/04/2021'\n",
    "\n",
    "Stock_Price_Goal = 86\n",
    "\n",
    "Max_percent_distance_from_stock_price = abs((Stock_Price_Goal - ticker_symbol_live_price)) / ticker_symbol_live_price\n",
    "\n",
    "Max_distance_from_stock_price = (1 + Max_percent_distance_from_stock_price) * ticker_symbol_live_price \n",
    "Min_Subtraction = Max_percent_distance_from_stock_price * ticker_symbol_live_price\n",
    "Min_distance_from_stock_price = ticker_symbol_live_price - Min_Subtraction\n",
    "Max_distance_from_stock_price"
   ]
  },
  {
   "cell_type": "code",
   "execution_count": 189,
   "id": "crazy-colleague",
   "metadata": {},
   "outputs": [
    {
     "data": {
      "text/plain": [
       "73.39999389648438"
      ]
     },
     "execution_count": 189,
     "metadata": {},
     "output_type": "execute_result"
    }
   ],
   "source": [
    "Min_distance_from_stock_price"
   ]
  },
  {
   "cell_type": "code",
   "execution_count": 190,
   "id": "automotive-cookbook",
   "metadata": {
    "scrolled": true
   },
   "outputs": [],
   "source": [
    "#This is what will decide on whether im using Calls or Puts\n",
    "\n",
    "stock_options = ops.get_calls(ticker_symbol,expiration_date)\n",
    "#stock_options = ops.get_puts(ticker_symbol,expiration_date)"
   ]
  },
  {
   "cell_type": "code",
   "execution_count": 191,
   "id": "assigned-capacity",
   "metadata": {},
   "outputs": [
    {
     "name": "stderr",
     "output_type": "stream",
     "text": [
      "/Users/creinoso/opt/anaconda3/envs/Algo_Course/lib/python3.6/site-packages/ipykernel_launcher.py:13: SettingWithCopyWarning: \n",
      "A value is trying to be set on a copy of a slice from a DataFrame\n",
      "\n",
      "See the caveats in the documentation: https://pandas.pydata.org/pandas-docs/stable/user_guide/indexing.html#returning-a-view-versus-a-copy\n",
      "  del sys.path[0]\n"
     ]
    },
    {
     "data": {
      "text/plain": [
       "{'Volume': [39.0,\n",
       "  22.0,\n",
       "  52.0,\n",
       "  36.0,\n",
       "  27.0,\n",
       "  210.0,\n",
       "  19.0,\n",
       "  41.0,\n",
       "  67.0,\n",
       "  2.0,\n",
       "  128.0,\n",
       "  17.0,\n",
       "  13.0],\n",
       " 'Implied_Volatilty': [0.4407,\n",
       "  0.3975,\n",
       "  0.3821,\n",
       "  0.3897,\n",
       "  0.3884,\n",
       "  0.3826,\n",
       "  0.3843,\n",
       "  0.38770000000000004,\n",
       "  0.3865,\n",
       "  0.38530000000000003,\n",
       "  0.3933,\n",
       "  0.3892,\n",
       "  0.3914],\n",
       " 'Distance_Weighting_Factor': [0.06450030363092475,\n",
       "  0.7901244136413117,\n",
       "  0.9070285997176416,\n",
       "  0.6298809720261401,\n",
       "  0.40312382209672964,\n",
       "  0.3086416762928087,\n",
       "  0.2267571499294104,\n",
       "  0.15747024300653503,\n",
       "  0.10078095552418245,\n",
       "  0.0566892874823526,\n",
       "  0.025195238881045637,\n",
       "  0.006298809720261409,\n",
       "  0.07904646540763464]}"
      ]
     },
     "execution_count": 191,
     "metadata": {},
     "output_type": "execute_result"
    }
   ],
   "source": [
    "Option_Data = {}\n",
    "\n",
    "\n",
    "i=0\n",
    "while i < len(stock_options):\n",
    "    if (stock_options['Strike'][i] <= Max_distance_from_stock_price) and (stock_options['Strike'][i] >= Min_distance_from_stock_price):\n",
    "#This is to get Volume Data\n",
    "        if stock_options['Volume'][i] == '-':\n",
    "            stock_options['Volume'][i] = 0 \n",
    "        Option_Data.setdefault('Volume',[]).append(float(stock_options['Volume'][i]))\n",
    "#this is to get the Implied Volatility Data\n",
    "        \n",
    "        stock_options['Implied Volatility'][i] = stock_options['Implied Volatility'][i].replace('%','')\n",
    "        Option_Data.setdefault('Implied_Volatilty',[]).append(float(stock_options['Implied Volatility'][i])/100)\n",
    "        \n",
    "#Distance from stock price (Distance Weighting Factor)\n",
    "        if ((abs(stock_options['Strike'][i] - ticker_symbol_live_price)/ ticker_symbol_live_price) < Max_percent_distance_from_stock_price):\n",
    "            Distance_Weighting_Factor = (((abs(stock_options['Strike'][i] - ticker_symbol_live_price)/ ticker_symbol_live_price) - Max_percent_distance_from_stock_price) ** 2) / (Max_percent_distance_from_stock_price ** 2)\n",
    "\n",
    "        \n",
    "        elif ((abs(stock_options['Strike'][i] - ticker_symbol_live_price)/ ticker_symbol_live_price) == Max_percent_distance_from_stock_price):\n",
    "            Distance_Weighting_Factor = Max_percent_distance_from_stock_price\n",
    "        Option_Data.setdefault('Distance_Weighting_Factor',[]).append(Distance_Weighting_Factor)\n",
    "\n",
    "    i += 1 \n",
    "Option_Data"
   ]
  },
  {
   "cell_type": "code",
   "execution_count": 192,
   "id": "ruled-supplier",
   "metadata": {},
   "outputs": [
    {
     "data": {
      "text/plain": [
       "673.0"
      ]
     },
     "execution_count": 192,
     "metadata": {},
     "output_type": "execute_result"
    }
   ],
   "source": [
    "#Get the total volume\n",
    "\n",
    "x = 0 \n",
    "Total_Volume = 0\n",
    "for x in range (len(Option_Data['Volume'])):\n",
    "    Total_Volume += Option_Data['Volume'][x]\n",
    "    x += 1\n",
    "\n",
    "Total_Volume"
   ]
  },
  {
   "cell_type": "code",
   "execution_count": 193,
   "id": "sized-publicity",
   "metadata": {
    "scrolled": true
   },
   "outputs": [
    {
     "data": {
      "text/plain": [
       "[0.05794947994056464,\n",
       " 0.03268945022288262,\n",
       " 0.07726597325408618,\n",
       " 0.05349182763744428,\n",
       " 0.04011887072808321,\n",
       " 0.31203566121842496,\n",
       " 0.02823179791976226,\n",
       " 0.06092124814264487,\n",
       " 0.09955423476968796,\n",
       " 0.0029717682020802376,\n",
       " 0.1901931649331352,\n",
       " 0.02526002971768202,\n",
       " 0.019316493313521546]"
      ]
     },
     "execution_count": 193,
     "metadata": {},
     "output_type": "execute_result"
    }
   ],
   "source": [
    "#Make a list with the Volume Weighting Factor\n",
    "\n",
    "Volume_Weighting_Factor = []\n",
    "\n",
    "\n",
    "for i in range (len(Option_Data['Volume'])):\n",
    "    Current_Volume_Weighting_Factor = Option_Data['Volume'][i] / Total_Volume\n",
    "    Volume_Weighting_Factor.append(Current_Volume_Weighting_Factor)\n",
    "    \n",
    "Volume_Weighting_Factor"
   ]
  },
  {
   "cell_type": "code",
   "execution_count": 194,
   "id": "medieval-bibliography",
   "metadata": {},
   "outputs": [
    {
     "name": "stdout",
     "output_type": "stream",
     "text": [
      "Implied Volatilty = 0.38923541576914616\n"
     ]
    }
   ],
   "source": [
    "#This gets the actual Implied Volatilty \n",
    "\n",
    "for values in range(len(Option_Data['Volume'])):\n",
    "    Total_Numerator += Volume_Weighting_Factor[values] * Option_Data['Distance_Weighting_Factor'][values] * Option_Data['Implied_Volatilty'][values]\n",
    "    Total_Denominator += Volume_Weighting_Factor[values] * Option_Data['Distance_Weighting_Factor'][values]\n",
    "Implied_Volatility = Total_Numerator/Total_Denominator\n",
    "print('Implied Volatilty = ' + str(Implied_Volatility))"
   ]
  },
  {
   "cell_type": "code",
   "execution_count": null,
   "id": "narrow-argument",
   "metadata": {},
   "outputs": [],
   "source": []
  }
 ],
 "metadata": {
  "kernelspec": {
   "display_name": "Python 3",
   "language": "python",
   "name": "python3"
  },
  "language_info": {
   "codemirror_mode": {
    "name": "ipython",
    "version": 3
   },
   "file_extension": ".py",
   "mimetype": "text/x-python",
   "name": "python",
   "nbconvert_exporter": "python",
   "pygments_lexer": "ipython3",
   "version": "3.6.12"
  }
 },
 "nbformat": 4,
 "nbformat_minor": 5
}
