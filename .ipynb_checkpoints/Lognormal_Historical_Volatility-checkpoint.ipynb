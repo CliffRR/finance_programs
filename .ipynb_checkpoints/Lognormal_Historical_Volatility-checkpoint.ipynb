{
 "cells": [
  {
   "cell_type": "code",
   "execution_count": 158,
   "id": "egyptian-somerset",
   "metadata": {},
   "outputs": [],
   "source": [
    "import yahoo_fin.stock_info as si\n",
    "import math\n",
    "from datetime import datetime, timedelta"
   ]
  },
  {
   "cell_type": "code",
   "execution_count": 159,
   "id": "induced-dining",
   "metadata": {},
   "outputs": [],
   "source": [
    "def listToString(List_Name): \n",
    "    \n",
    "    # initialize an empty string\n",
    "    string = \"\" \n",
    "    \n",
    "    # traverse in the string  \n",
    "    for i in List_Name: \n",
    "        string += i  \n",
    "    \n",
    "    # return string  \n",
    "    return string"
   ]
  },
  {
   "cell_type": "code",
   "execution_count": 160,
   "id": "adjustable-acquisition",
   "metadata": {
    "scrolled": true
   },
   "outputs": [
    {
     "data": {
      "text/plain": [
       "'09/05/2020'"
      ]
     },
     "execution_count": 160,
     "metadata": {},
     "output_type": "execute_result"
    }
   ],
   "source": [
    "#Location for all the variables \n",
    "stored_days_adjclose_price = []\n",
    "Number_of_stock_prices = 365\n",
    "ticker_symbol = 'ebay'\n",
    "\n",
    "#Getting the date of the inital time\n",
    "Initial_Date = datetime.now() - timedelta(days = Number_of_stock_prices+1)\n",
    "Initial_Date = str(Initial_Date)\n",
    "\n",
    "#Putting the initial date into variables \n",
    "year = Initial_Date[0:4]\n",
    "month = Initial_Date[5:7]\n",
    "day = Initial_Date[8:10]\n",
    "\n",
    "#Putting it altogether to get the Initial Date properly\n",
    "Initial_Date = day + '/' + month + '/' + year\n",
    "Initial_Date"
   ]
  },
  {
   "cell_type": "code",
   "execution_count": 161,
   "id": "conscious-pontiac",
   "metadata": {},
   "outputs": [
    {
     "data": {
      "text/html": [
       "<div>\n",
       "<style scoped>\n",
       "    .dataframe tbody tr th:only-of-type {\n",
       "        vertical-align: middle;\n",
       "    }\n",
       "\n",
       "    .dataframe tbody tr th {\n",
       "        vertical-align: top;\n",
       "    }\n",
       "\n",
       "    .dataframe thead th {\n",
       "        text-align: right;\n",
       "    }\n",
       "</style>\n",
       "<table border=\"1\" class=\"dataframe\">\n",
       "  <thead>\n",
       "    <tr style=\"text-align: right;\">\n",
       "      <th></th>\n",
       "      <th>open</th>\n",
       "      <th>high</th>\n",
       "      <th>low</th>\n",
       "      <th>close</th>\n",
       "      <th>adjclose</th>\n",
       "      <th>volume</th>\n",
       "      <th>ticker</th>\n",
       "    </tr>\n",
       "  </thead>\n",
       "  <tbody>\n",
       "    <tr>\n",
       "      <th>2021-05-05</th>\n",
       "      <td>57.400002</td>\n",
       "      <td>58.880001</td>\n",
       "      <td>57.389999</td>\n",
       "      <td>58.240002</td>\n",
       "      <td>58.240002</td>\n",
       "      <td>7002800</td>\n",
       "      <td>EBAY</td>\n",
       "    </tr>\n",
       "    <tr>\n",
       "      <th>2021-05-06</th>\n",
       "      <td>58.150002</td>\n",
       "      <td>58.889999</td>\n",
       "      <td>57.759998</td>\n",
       "      <td>58.820000</td>\n",
       "      <td>58.820000</td>\n",
       "      <td>7583000</td>\n",
       "      <td>EBAY</td>\n",
       "    </tr>\n",
       "    <tr>\n",
       "      <th>2021-05-07</th>\n",
       "      <td>59.099998</td>\n",
       "      <td>60.009998</td>\n",
       "      <td>58.400002</td>\n",
       "      <td>59.779999</td>\n",
       "      <td>59.779999</td>\n",
       "      <td>10346800</td>\n",
       "      <td>EBAY</td>\n",
       "    </tr>\n",
       "  </tbody>\n",
       "</table>\n",
       "</div>"
      ],
      "text/plain": [
       "                 open       high        low      close   adjclose    volume  \\\n",
       "2021-05-05  57.400002  58.880001  57.389999  58.240002  58.240002   7002800   \n",
       "2021-05-06  58.150002  58.889999  57.759998  58.820000  58.820000   7583000   \n",
       "2021-05-07  59.099998  60.009998  58.400002  59.779999  59.779999  10346800   \n",
       "\n",
       "           ticker  \n",
       "2021-05-05   EBAY  \n",
       "2021-05-06   EBAY  \n",
       "2021-05-07   EBAY  "
      ]
     },
     "execution_count": 161,
     "metadata": {},
     "output_type": "execute_result"
    }
   ],
   "source": [
    "Ticker_adjclose = si.get_data('ebay', start_date = Initial_Date)\n",
    "Open_Stock_Days = len(Ticker_adjclose)\n",
    "Ticker_adjclose.tail(3)\n",
    "#Open_Stock_Days"
   ]
  },
  {
   "cell_type": "code",
   "execution_count": 162,
   "id": "finnish-party",
   "metadata": {},
   "outputs": [],
   "source": [
    "i = 0\n",
    "while i < Open_Stock_Days:\n",
    "    stored_days_adjclose_price.append(Ticker_adjclose['adjclose'][i])\n",
    "    i+=1"
   ]
  },
  {
   "cell_type": "code",
   "execution_count": 163,
   "id": "endangered-shock",
   "metadata": {},
   "outputs": [
    {
     "data": {
      "text/plain": [
       "168"
      ]
     },
     "execution_count": 163,
     "metadata": {},
     "output_type": "execute_result"
    }
   ],
   "source": [
    "(len(stored_days_adjclose_price))"
   ]
  },
  {
   "cell_type": "code",
   "execution_count": 164,
   "id": "remarkable-parade",
   "metadata": {},
   "outputs": [],
   "source": [
    "#This gets the calculation for volatility\n",
    "values = []\n",
    "total = 0\n",
    "average = 0\n",
    "total1 = 0 \n",
    "x = 0 \n",
    "\n",
    "while x < (len(stored_days_adjclose_price) - 1):\n",
    "    values.append(math.log((stored_days_adjclose_price[x+1]/(stored_days_adjclose_price[x]))))\n",
    "    total += values[x]\n",
    "    x += 1\n",
    "\n",
    "average = total/(len(stored_days_adjclose_price)-1)\n",
    "\n",
    "for x in values:\n",
    "    total1 += (x - average) ** 2\n",
    "    \n",
    "Volatility = (total1/(len(stored_days_adjclose_price)-2)) ** .5\n",
    "\n",
    "#This final steps makes it in annual volatility\n",
    "Volatility = Volatility * (260 ** .5)\n",
    "\n"
   ]
  },
  {
   "cell_type": "code",
   "execution_count": 165,
   "id": "turned-carry",
   "metadata": {},
   "outputs": [
    {
     "data": {
      "text/plain": [
       "0.3818887234589501"
      ]
     },
     "execution_count": 165,
     "metadata": {},
     "output_type": "execute_result"
    }
   ],
   "source": [
    "Volatility "
   ]
  },
  {
   "cell_type": "code",
   "execution_count": null,
   "id": "closing-stanford",
   "metadata": {},
   "outputs": [],
   "source": []
  }
 ],
 "metadata": {
  "kernelspec": {
   "display_name": "Python 3",
   "language": "python",
   "name": "python3"
  },
  "language_info": {
   "codemirror_mode": {
    "name": "ipython",
    "version": 3
   },
   "file_extension": ".py",
   "mimetype": "text/x-python",
   "name": "python",
   "nbconvert_exporter": "python",
   "pygments_lexer": "ipython3",
   "version": "3.6.12"
  }
 },
 "nbformat": 4,
 "nbformat_minor": 5
}
